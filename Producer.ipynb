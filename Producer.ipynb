{
 "cells": [
  {
   "cell_type": "code",
   "execution_count": 5,
   "id": "9fcdfe7f",
   "metadata": {},
   "outputs": [],
   "source": [
    "from kafka import KafkaProducer as kp\n",
    "import random\n",
    "producer = kp(bootstrap_servers=\"127.0.0.1:9092\")"
   ]
  },
  {
   "cell_type": "code",
   "execution_count": 6,
   "id": "5b70ef28",
   "metadata": {},
   "outputs": [],
   "source": [
    "for x in range(10):\n",
    "    n = random.random()\n",
    "    producer.send(\"mensagens\",key=b\"Chave %d \" % x, value=b\"Mensagem %f \" % n)"
   ]
  },
  {
   "cell_type": "code",
   "execution_count": null,
   "id": "61644d81",
   "metadata": {},
   "outputs": [],
   "source": []
  }
 ],
 "metadata": {
  "kernelspec": {
   "display_name": "Python 3 (ipykernel)",
   "language": "python",
   "name": "python3"
  },
  "language_info": {
   "codemirror_mode": {
    "name": "ipython",
    "version": 3
   },
   "file_extension": ".py",
   "mimetype": "text/x-python",
   "name": "python",
   "nbconvert_exporter": "python",
   "pygments_lexer": "ipython3",
   "version": "3.10.6"
  }
 },
 "nbformat": 4,
 "nbformat_minor": 5
}
